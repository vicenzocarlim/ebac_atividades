{
 "cells": [
  {
   "cell_type": "markdown",
   "metadata": {},
   "source": [
    "# Tarefa 01\n",
    "\n",
    "- Leia os enunciados com atenção\n",
    "- Saiba que pode haver mais de uma resposta correta\n",
    "- Insira novas células de código sempre que achar necessário\n",
    "- Em caso de dúvidas, procure os tutores\n",
    "- Divirta-se :)"
   ]
  },
  {
   "cell_type": "markdown",
   "metadata": {},
   "source": [
    "### 01 - Teste de gravidez\n",
    "Escreva uma célula com controle de fluxos que tem como premissa a existência das seguintes variáveis:\n",
    "\n",
    "- ```sexo``` como ```str``` indicando os valores '**M**' para masculino e '**F**' para feminino  \n",
    "- ```beta_hcg``` que indica a quantidade do beta-HCG no sangue em mUI/mL.\n",
    "\n",
    "A sua tarefa é escrever um código que imprima como resultado \"indivíduo do sexo masculino\" quando sexo = 'M', caso sexo = 'F', se o valor de beta-HCG for maior que 5, retorne \"Positivo\" indicando que a paciente está grávida, e retorne \"Negativo\" caso contrário.\n",
    "\n",
    "Não mexa nos valores da variável ```sexo``` nem em ```beta_hcg```, e escreva um código que funcione para quaisquer valores possíveis de ambos: ```sexo``` = '**M**' ou '**F**' e ```beta_hcg``` assumindo valores inteiros positivos."
   ]
  },
  {
   "cell_type": "code",
   "execution_count": 17,
   "metadata": {},
   "outputs": [
    {
     "name": "stdout",
     "output_type": "stream",
     "text": [
      "Indivíduo do sexo masculino\n"
     ]
    }
   ],
   "source": [
    "sexo = 'M'\n",
    "beta_hcg = 0\n",
    "\n",
    "# seu código vem abaixo desta linha\n",
    "if sexo == 'M':\n",
    "    print(\"Indivíduo do sexo masculino\")\n",
    "else:\n",
    "    if beta_hcg > 5:\n",
    "        print(\"Positivo\")\n",
    "    else:\n",
    "        print(\"Negativo\")"
   ]
  },
  {
   "cell_type": "markdown",
   "metadata": {},
   "source": [
    "### 02 - Renomeando variáveis\n",
    "\n",
    "Vamos ver adiante que uma forma de renomear variáveis de um conjunto de dados é através de dicionários - o dicionário deve conter como chave o nome original, associando a cada chave um único valor (tipo *str*) que contenha o nome novo.\n",
    "\n",
    "A sua tarefa é escrever um dicionário que possa ser utilizado para traduzir as variáveis ```name``` (nome), ```age``` (idade) e ```income``` (renda). Ou seja, esse dicionário deve relacionar as chaves *name, age* e *income* às suas respectivas traduções."
   ]
  },
  {
   "cell_type": "code",
   "execution_count": 18,
   "metadata": {},
   "outputs": [
    {
     "data": {
      "text/plain": [
       "{'name': 'nome', 'age': 'idade', 'income': 'renda'}"
      ]
     },
     "execution_count": 18,
     "metadata": {},
     "output_type": "execute_result"
    }
   ],
   "source": [
    "dic_renomeacao = {'name': 'nome', 'age': 'idade', 'income': 'renda'}\n",
    "dic_renomeacao"
   ]
  },
  {
   "cell_type": "markdown",
   "metadata": {},
   "source": [
    "### 03 - É divisível?\n",
    "A sua tarefa é escrever um código que indique se um número ```N``` é divisível por um número P. Escreva um programa que faça essa verificação para quaisquer combinações de ```N``` e ```M``` e devolva uma mensagem indicativa no output."
   ]
  },
  {
   "cell_type": "code",
   "execution_count": 19,
   "metadata": {},
   "outputs": [
    {
     "name": "stdout",
     "output_type": "stream",
     "text": [
      "O número 42 é divisível por 7.\n"
     ]
    }
   ],
   "source": [
    "N = 42\n",
    "M = 7\n",
    "\n",
    "#Seu código\n",
    "if M == 0: # absurdo matemático\n",
    "    print(\"Erro! O denominador não pode ser igual a zero.\")\n",
    "else:\n",
    "    if N % M == 0:\n",
    "        print(\"O número %d é divisível por %d.\" % (N, M))\n",
    "    else:\n",
    "        print(\"O número %d não é divisível por %d.\" % (N, M))"
   ]
  },
  {
   "cell_type": "markdown",
   "metadata": {},
   "source": [
    "### 04 - Números primos\n",
    "> Um número **N** é primo se e somente se é divisível por 1, -1, por **N** e por -**N**.  \n",
    "\n",
    "Escreva um script que verifica se ```N``` é um número primo, verificando se ```N``` é divisível por todos os números de ```1``` a ```N-1```. Você vai precisar usar alguma ferramenta de *loop* que você aprendeu para isto. No final, devolva uma mensagem no output indicando se o número é primo ou não."
   ]
  },
  {
   "cell_type": "code",
   "execution_count": 59,
   "metadata": {},
   "outputs": [
    {
     "name": "stdout",
     "output_type": "stream",
     "text": [
      "O número 47 é primo.\n"
     ]
    }
   ],
   "source": [
    "N = 47\n",
    "\n",
    "# seu código abaixo\n",
    "# Utilizar o módulo do número N\n",
    "num = N # variável auxiliar\n",
    "if num < 0:\n",
    "    num = -num\n",
    "\n",
    "# Verificando se o número N é primo\n",
    "if num == 0 or num == 1: # números que, por teoria, não são primos\n",
    "    print(\"O número %d não é primo.\" % N)\n",
    "else:\n",
    "    i = 2 # variável de iteração\n",
    "    e_primo = True\n",
    "    while i < num:\n",
    "        if num % i == 0:\n",
    "            e_primo = False # significa que o número não é primo\n",
    "        i += 1 # incrementar o contador\n",
    "\n",
    "    if e_primo: # significa que o número é primo\n",
    "        print(\"O número %d é primo.\" % N)\n",
    "    else:\n",
    "        print(\"O número %d não é primo.\" % N)"
   ]
  },
  {
   "cell_type": "markdown",
   "metadata": {},
   "source": [
    "### 05 - Desafio\n",
    "O algorítmo do exercício anterior não é o mais eficiente. O que você pode fazer para deixá-lo mais eficiente? Ou seja, executar menos comparações, portanto consumir menos tempo.\n",
    "1. Será que precisamos correr o loop até o final sempre?\n",
    "2. Será que precisamos mesmo verificar **todos** os números?\n",
    "3. Será que precisamos ir até N-1?\n",
    "\n",
    "Essas perguntas levam ao tipo de pensamento voltado a deixar um algoritmo mais eficiente. Veja se você consegue melhorar o seu."
   ]
  },
  {
   "cell_type": "code",
   "execution_count": 73,
   "metadata": {},
   "outputs": [
    {
     "name": "stdout",
     "output_type": "stream",
     "text": [
      "O número 98 não é primo.\n"
     ]
    }
   ],
   "source": [
    "N = 98\n",
    "\n",
    "# seu código aqui\n",
    "# Utilizar o módulo do número N\n",
    "num = N # variável auxiliar\n",
    "if num < 0:\n",
    "    num = -num\n",
    "\n",
    "# Para tornar o algoritmo mais eficiente, podemos\n",
    "# interromper o loop quando descobrirmos que o número não é primo, isto é,\n",
    "# 1. Não vamos percorrer o loop até o final caso encontremos alguma divisão exata;\n",
    "# 2. Não vamos verificar necessariamente todos os números;\n",
    "# 3. Podemos parar antes do número N-1.\n",
    "\n",
    "# Verificando se o número N é primo\n",
    "if num == 0 or num == 1: # números que, por teoria, não são primos\n",
    "    print(\"O número %d não é primo.\" % N)\n",
    "else:\n",
    "    i = 2 # variável de iteração\n",
    "    while i < num:\n",
    "        if num % i == 0:\n",
    "            print(\"O número %d não é primo.\" % N)\n",
    "            i = num # interromper o loop\n",
    "        i += 1 # incrementar o contador\n",
    "\n",
    "    if i == num: # significa que o número é primo\n",
    "        print(\"O número %d é primo.\" % N)"
   ]
  },
  {
   "cell_type": "markdown",
   "metadata": {},
   "source": [
    "### 06 - Peso ideal 1\n",
    "O IMC (índice de massa corpórea) é um indicador de saúde mais bem aceito que o peso. Ele é calculado como:\n",
    "\n",
    "$$ IMC = \\dfrac{peso}{altura^2}$$\n",
    "\n",
    "Segundo a OMS, valores *normais* são entre 18.5 e 24.9.\n",
    "\n",
    "Sua tarefa é encontrar o ponto médio dessa faixa."
   ]
  },
  {
   "cell_type": "code",
   "execution_count": 74,
   "metadata": {},
   "outputs": [
    {
     "data": {
      "text/plain": [
       "21.7"
      ]
     },
     "execution_count": 74,
     "metadata": {},
     "output_type": "execute_result"
    }
   ],
   "source": [
    "imc_ideal = (18.5 + 24.9) / 2\n",
    "imc_ideal"
   ]
  },
  {
   "cell_type": "markdown",
   "metadata": {},
   "source": [
    "### 07 - Peso ideal 2\n",
    "Recebendo um valor de altura, encontre o peso '*ideal*' dessa pessoa, que fornece o IMC encontrado acima"
   ]
  },
  {
   "cell_type": "code",
   "execution_count": 78,
   "metadata": {},
   "outputs": [
    {
     "data": {
      "text/plain": [
       "62.712999999999994"
      ]
     },
     "execution_count": 78,
     "metadata": {},
     "output_type": "execute_result"
    }
   ],
   "source": [
    "altura = 1.70\n",
    "\n",
    "# Seu código\n",
    "# Fazendo uma regra de três, temos que peso = IMC * altura²\n",
    "peso_ideal = imc_ideal * (altura**2) # o imc_ideal foi calculado na célula anterior, basta rodá-la\n",
    "peso_ideal"
   ]
  },
  {
   "cell_type": "markdown",
   "metadata": {},
   "source": [
    "### 08 - Peso ideal 3\n",
    "Dada uma lista contendo as alturas de pacientes, crie uma nova lista que contenha o peso '*ideal*' (que fornece o IMC calculado em **Peso ideal 1**) desses pacientes."
   ]
  },
  {
   "cell_type": "code",
   "execution_count": 79,
   "metadata": {},
   "outputs": [
    {
     "data": {
      "text/plain": [
       "[82.51424999999999, 91.19425, 62.712999999999994, 59.07824999999999]"
      ]
     },
     "execution_count": 79,
     "metadata": {},
     "output_type": "execute_result"
    }
   ],
   "source": [
    "lista_alturas = [1.95, 2.05, 1.70, 1.65]\n",
    "\n",
    "lista_peso_ideal = []\n",
    "\n",
    "# seu código\n",
    "for altura in lista_alturas:\n",
    "    peso_ideal = imc_ideal * (altura**2) # o imc_ideal foi calculado há duas células, basta rodá-la\n",
    "    lista_peso_ideal.append(peso_ideal)\n",
    "\n",
    "lista_peso_ideal"
   ]
  },
  {
   "cell_type": "markdown",
   "metadata": {},
   "source": [
    "### 09 - Peso ideal 4\n",
    "Dada uma lista de tuplas - cada elemento da lista é uma tupla contendo altura e peso de um paciente - crie uma nova lista com o IMC desses pacientes."
   ]
  },
  {
   "cell_type": "code",
   "execution_count": 80,
   "metadata": {},
   "outputs": [
    {
     "data": {
      "text/plain": [
       "[27.777777777777775, 27.548209366391188, 19.188070502453332]"
      ]
     },
     "execution_count": 80,
     "metadata": {},
     "output_type": "execute_result"
    }
   ],
   "source": [
    "altura_peso = [(1.80, 90), (1.65, 75), (1.91, 70)]\n",
    "\n",
    "imc = []\n",
    "\n",
    "# seu código\n",
    "for i in range(len(altura_peso)):\n",
    "    altura, peso = altura_peso[i]\n",
    "    imc_calc = peso / (altura**2) # calcular o IMC de acordo com a fórmula dada\n",
    "    imc.append(imc_calc)\n",
    "\n",
    "imc"
   ]
  },
  {
   "cell_type": "markdown",
   "metadata": {},
   "source": [
    "### 10 - Peso ideal 5\n",
    "Dada uma lista de **listas** - cada elemento da lista é uma **lista** contendo altura e peso de um paciente, adicione mais um elemento à lista de cada paciente contendo o IMC do paciente. Verifique também se é 'baixo', 'normal' ou 'alto' segundo os padrões da OMS em que normal é entre 18.5 e 24.9.\n",
    "\n",
    "Reflexão: por que no problema anterior temos que criar uma nova lista, e não podemos adicionar os dados de cada indivíduo à tupla?"
   ]
  },
  {
   "cell_type": "code",
   "execution_count": 85,
   "metadata": {},
   "outputs": [
    {
     "data": {
      "text/plain": [
       "[[1.8, 90, 27.777777777777775, 'alto'],\n",
       " [1.65, 75, 27.548209366391188, 'alto'],\n",
       " [1.91, 70, 19.188070502453332, 'normal']]"
      ]
     },
     "execution_count": 85,
     "metadata": {},
     "output_type": "execute_result"
    }
   ],
   "source": [
    "altura_peso = [[1.80, 90], [1.65, 75], [1.91, 70]]\n",
    "\n",
    "# seu código\n",
    "for i in range(len(altura_peso)):\n",
    "    altura, peso = altura_peso[i][0], altura_peso[i][1]\n",
    "    imc_calc = peso / (altura**2) # calcular o IMC de acordo com a fórmula dada\n",
    "    altura_peso[i].append(imc_calc)\n",
    "    # Classificar o IMC de acordo com os padrões da OMS\n",
    "    if imc_calc < 18.5:\n",
    "        altura_peso[i].append('baixo')\n",
    "    elif imc_calc > 24.9:\n",
    "        altura_peso[i].append('alto')\n",
    "    else:\n",
    "        altura_peso[i].append('normal')\n",
    "    \n",
    "altura_peso"
   ]
  },
  {
   "cell_type": "markdown",
   "metadata": {},
   "source": [
    "*Reflexão*: No problema anterior, foi necessário criar uma nova lista porque as tuplas são tipos considerados imutáveis, ou seja, não podemos modificá-las nem adicionar dados à sua estrutura."
   ]
  }
 ],
 "metadata": {
  "kernelspec": {
   "display_name": "Python 3 (ipykernel)",
   "language": "python",
   "name": "python3"
  },
  "language_info": {
   "codemirror_mode": {
    "name": "ipython",
    "version": 3
   },
   "file_extension": ".py",
   "mimetype": "text/x-python",
   "name": "python",
   "nbconvert_exporter": "python",
   "pygments_lexer": "ipython3",
   "version": "3.9.12"
  }
 },
 "nbformat": 4,
 "nbformat_minor": 4
}
